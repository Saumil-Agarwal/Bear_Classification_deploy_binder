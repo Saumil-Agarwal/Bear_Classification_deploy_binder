{
 "cells": [
  {
   "cell_type": "code",
   "execution_count": 1,
   "metadata": {},
   "outputs": [],
   "source": [
    "from fastai2.vision.all import *\n",
    "from fastai2.vision.widgets import *"
   ]
  },
  {
   "cell_type": "markdown",
   "metadata": {},
   "source": [
    "## Welcome To bear classification"
   ]
  },
  {
   "cell_type": "code",
   "execution_count": 5,
   "metadata": {},
   "outputs": [],
   "source": [
    "learn = load_learner('bears.pkl')\n",
    "btn_upload = widgets.FileUpload(multiple=False)\n",
    "label_pred = widgets.Label()\n",
    "classify_btn = widgets.Button(description='Classify the uploaded file')\n"
   ]
  },
  {
   "cell_type": "code",
   "execution_count": 8,
   "metadata": {},
   "outputs": [],
   "source": [
    "output = widgets.Output()\n",
    "def on_clicking_classify(b):\n",
    "    \n",
    "    try:\n",
    "        img = PILImage.create(btn_upload.data[-1])\n",
    "    except IndexError:\n",
    "        output.clear_output()\n",
    "        with output:\n",
    "            print('Please upload a file and please upload only 1 file')\n",
    "        return\n",
    "        \n",
    "    output.clear_output()\n",
    "    with output: \n",
    "        display(img.to_thumb(256,256))\n",
    "    \n",
    "    bear_type,index,probs = learn.predict(img)\n",
    "    label_pred.value = f'Its a {bear_type} predicted with {probs[index]} probability '\n",
    "\n",
    "\n",
    "classify_btn.on_click(on_clicking_classify) \n"
   ]
  },
  {
   "cell_type": "code",
   "execution_count": 7,
   "metadata": {},
   "outputs": [
    {
     "data": {
      "application/vnd.jupyter.widget-view+json": {
       "model_id": "e5fcbe045e654f2b8f5c758986addabb",
       "version_major": 2,
       "version_minor": 0
      },
      "text/plain": [
       "VBox(children=(Label(value='Upload and Classify'), FileUpload(value={}, description='Upload'), Button(descript…"
      ]
     },
     "metadata": {},
     "output_type": "display_data"
    }
   ],
   "source": [
    "start_label = widgets.Label('Upload and Classify')\n",
    "vbox = widgets.VBox([start_label, btn_upload, classify_btn,output,label_pred])\n",
    "display(vbox)"
   ]
  },
  {
   "cell_type": "code",
   "execution_count": null,
   "metadata": {},
   "outputs": [],
   "source": []
  },
  {
   "cell_type": "code",
   "execution_count": null,
   "metadata": {},
   "outputs": [],
   "source": []
  }
 ],
 "metadata": {
  "kernelspec": {
   "display_name": "Python 3",
   "language": "python",
   "name": "python3"
  },
  "language_info": {
   "codemirror_mode": {
    "name": "ipython",
    "version": 3
   },
   "file_extension": ".py",
   "mimetype": "text/x-python",
   "name": "python",
   "nbconvert_exporter": "python",
   "pygments_lexer": "ipython3",
   "version": "3.7.6"
  }
 },
 "nbformat": 4,
 "nbformat_minor": 4
}